{
 "cells": [
  {
   "cell_type": "markdown",
   "metadata": {},
   "source": [
    "These exercises are intended to accompany our book [Fundamentals of Data Analytics](https://link.springer.com/book/10.1007/978-3-030-56831-3). The coarse is an elemantry introduction to machine learning with no need for and background except some familiarity with basic linear algebra and probability.\n"
   ]
  },
  {
   "cell_type": "markdown",
   "metadata": {
    "collapsed": true
   },
   "source": [
    "# MNIST Dataset \n"
   ]
  },
  {
   "cell_type": "markdown",
   "metadata": {},
   "source": [
    "## MNIST Dataset Description\n",
    "\n",
    "The Modified National Institute of Standards and Technology dataset, shortly called MNIST dataset is commonly used for benchmarking purpose in machine learning research. Note that MNIST is not always the best dataset for testing the ideas. It is too simple (based on current practices) and has many additional unique structures (e.g. it is already sparse; there are symmetries in the dataset for instance 6 and 9 are rotated versions of each other). So be cautious of conclusions you make on this dataset. For our purpose, namely, basic machine learning, it should be sufficient.\n",
    "\n",
    "MNIST dataset contains images of handwritten digits from 0 to 9. If you directly download it, say from [here](http://yann.lecun.com/exdb/mnist/), the data files train.csv and test.csv contain the gray-scale images of hand-drawn digits. The first file contains data that should be used for designing (or training) a model, while the second dataset is used for testing (evaluating) the obtained solution.\n",
    "\n",
    "Each image is 28 pixels in height and 28 pixels in width, for a total of 784 pixels in total. Each pixel has a single pixel-value associated with it, indicating the lightness or darkness of that pixel, with higher numbers meaning darker. This pixel-value is an integer between 0 and 255, inclusive.\n",
    "\n",
    "The training data set, (train.csv), has 785 columns. The first column, called \"label\", is the digit that was drawn by the user. The rest of the columns contain the pixel-values of the associated image.\n",
    "\n",
    "Each pixel column in the training set has a name like pixelx, where x is an integer between 0 and 783, inclusive. To locate this pixel on the image, suppose that we have decomposed x as x = i * 28 + j, where i and j are integers between 0 and 27, inclusive. Then pixelx is located on row i and column j of a 28 x 28 matrix, (indexing by zero).\n",
    "\n",
    "For example, pixel31 indicates the pixel that is in the fourth column from the left, and the second row from the top, as in the ascii-diagram below.\n",
    "\n",
    "Visually, if we omit the \"pixel\" prefix, the pixels make up the image like this:"
   ]
  },
  {
   "cell_type": "raw",
   "metadata": {},
   "source": [
    "\n",
    "000 001 002 003 ... 026 027\n",
    "\n",
    "028 029 030 031 ... 054 055\n",
    "\n",
    "056 057 058 059 ... 082 083\n",
    "\n",
    " |   |   |   |  ...  |   |\n",
    " \n",
    "728 729 730 731 ... 754 755\n",
    "\n",
    "756 757 758 759 ... 782 783 \n"
   ]
  },
  {
   "cell_type": "markdown",
   "metadata": {},
   "source": [
    "MNIST dataset can be accessed via dataloaders in deep learning packages like Tensorflow and PyTorch. One can check the following website for detailed information and downloading the dataset directly:\n",
    "\n",
    "http://yann.lecun.com/exdb/mnist/\n",
    "\n",
    "Four files can be found there:\n",
    " \n",
    "* Training set: *train-images-idx3-ubyte*\n",
    "* Training labels: *train-labels-idx1-ubyte*\n",
    "* Test set: *t10k-images-idx3-ubyte*\n",
    "* Test labels: *t10k-labels-idx1-ubyte*\n",
    "\n",
    "As it is explained in the webpage, the size of  training set is  60000 while the size of  test set is 10000. \n",
    "\n"
   ]
  },
  {
   "cell_type": "markdown",
   "metadata": {},
   "source": [
    "## Loading MNIST dataset\n",
    "\n",
    "After these datasets have been downloaded, we load them and try to play around with them. We define the file names corresponding to the dataset as well as the directory where they are stored. "
   ]
  },
  {
   "cell_type": "code",
   "execution_count": 1,
   "metadata": {},
   "outputs": [],
   "source": [
    "FILES_DIR = 'MNIST/raw/'\n",
    "TRAIN_FILE = 'train-images-idx3-ubyte'\n",
    "TRAIN_LABEL = 'train-labels-idx1-ubyte'   \n",
    "TEST_FILE = 't10k-images-idx3-ubyte'\n",
    "TEST_LABEL = 't10k-labels-idx1-ubyte'"
   ]
  },
  {
   "cell_type": "markdown",
   "metadata": {},
   "source": [
    "Note that there are additional information attached to the top of each file, for example in the training set:"
   ]
  },
  {
   "cell_type": "raw",
   "metadata": {},
   "source": [
    "[offset] [type]          [value]          [description] \n",
    "0000     32 bit integer  0x00000801(2049) magic number (MSB first) \n",
    "0004     32 bit integer  60000            number of items \n",
    "0008     unsigned byte   ??               label \n",
    "0009     unsigned byte   ??               label \n",
    "........ \n",
    "xxxx     unsigned byte   ??               label"
   ]
  },
  {
   "cell_type": "markdown",
   "metadata": {},
   "source": [
    "We now open the provided dataset files and output their sizes. The size of training and test set is the same as before. Note that the validation set should be manually constructed from the training set. Moreover the additional header information should be removed."
   ]
  },
  {
   "cell_type": "code",
   "execution_count": 2,
   "metadata": {},
   "outputs": [
    {
     "name": "stdout",
     "output_type": "stream",
     "text": [
      "Size of the training set:  (60000, 784)\n",
      "Size of the training labels:  (60000,)\n",
      "Size of the test set:  (10000, 784)\n",
      "Size of the test labels:  (10000,)\n"
     ]
    }
   ],
   "source": [
    "import numpy as np \n",
    "with open(FILES_DIR + TRAIN_FILE,'rb') as ftemp:\n",
    "      datatemp = np.fromfile(ftemp, dtype = np.ubyte)\n",
    "      dataRTraining = datatemp[16::].reshape(60000,784)\n",
    "      print('Size of the training set: ', dataRTraining.shape)\n",
    "with open(FILES_DIR + TRAIN_LABEL,'rb') as ftemp:\n",
    "      datatemp = np.fromfile(ftemp, dtype = np.ubyte)\n",
    "      labelRTraining = datatemp[8::]\n",
    "      print('Size of the training labels: ', labelRTraining.shape)\n",
    "with  open(FILES_DIR + TEST_FILE) as ftemp:\n",
    "      datatemp = np.fromfile(ftemp, dtype = np.ubyte)\n",
    "      dataRTest = datatemp[16::].reshape(10000,784)\n",
    "      print('Size of the test set: ', dataRTest.shape)\n",
    "with open(FILES_DIR + TEST_LABEL,'rb') as ftemp:\n",
    "      datatemp = np.fromfile(ftemp, dtype = np.ubyte)\n",
    "      labelRTest = datatemp[8::]\n",
    "      print('Size of the test labels: ', labelRTest.shape)\n"
   ]
  },
  {
   "cell_type": "markdown",
   "metadata": {},
   "source": [
    "Now let's visualize some of the data."
   ]
  },
  {
   "cell_type": "code",
   "execution_count": 3,
   "metadata": {},
   "outputs": [
    {
     "name": "stdout",
     "output_type": "stream",
     "text": [
      "[  0   0   0   0   0   0   0   0   0   0   0   0   0   0   0   0   0   0\n",
      "   0   0   0   0   0   0   0   0   0   0   0   0   0   0   0   0   0   0\n",
      "   0   0   0   0   0   0   0   0   0   0   0   0   0   0   0   0   0   0\n",
      "   0   0   0   0   0   0   0   0   0   0   0   0   0   0   0   0   0   0\n",
      "   0   0   0   0   0   0   0   0   0   0   0   0   0   0   0   0   0   0\n",
      "   0   0   0   0   0   0   0   0   0   0   0   0   0   0   0   0   0   0\n",
      "   0   0   0   0   0   0   0   0   0   0   0   0   0   0   0   0   0   0\n",
      "   0   0   0   0   0   0   0   0   0   0   0   0   0   0   0   0   0   0\n",
      "   0   0   0   0   0   0   0   0   3  18  18  18 126 136 175  26 166 255\n",
      " 247 127   0   0   0   0   0   0   0   0   0   0   0   0  30  36  94 154\n",
      " 170 253 253 253 253 253 225 172 253 242 195  64   0   0   0   0   0   0\n",
      "   0   0   0   0   0  49 238 253 253 253 253 253 253 253 253 251  93  82\n",
      "  82  56  39   0   0   0   0   0   0   0   0   0   0   0   0  18 219 253\n",
      " 253 253 253 253 198 182 247 241   0   0   0   0   0   0   0   0   0   0\n",
      "   0   0   0   0   0   0   0   0  80 156 107 253 253 205  11   0  43 154\n",
      "   0   0   0   0   0   0   0   0   0   0   0   0   0   0   0   0   0   0\n",
      "   0  14   1 154 253  90   0   0   0   0   0   0   0   0   0   0   0   0\n",
      "   0   0   0   0   0   0   0   0   0   0   0   0   0 139 253 190   2   0\n",
      "   0   0   0   0   0   0   0   0   0   0   0   0   0   0   0   0   0   0\n",
      "   0   0   0   0   0  11 190 253  70   0   0   0   0   0   0   0   0   0\n",
      "   0   0   0   0   0   0   0   0   0   0   0   0   0   0   0   0  35 241\n",
      " 225 160 108   1   0   0   0   0   0   0   0   0   0   0   0   0   0   0\n",
      "   0   0   0   0   0   0   0   0   0  81 240 253 253 119  25   0   0   0\n",
      "   0   0   0   0   0   0   0   0   0   0   0   0   0   0   0   0   0   0\n",
      "   0   0  45 186 253 253 150  27   0   0   0   0   0   0   0   0   0   0\n",
      "   0   0   0   0   0   0   0   0   0   0   0   0   0  16  93 252 253 187\n",
      "   0   0   0   0   0   0   0   0   0   0   0   0   0   0   0   0   0   0\n",
      "   0   0   0   0   0   0   0 249 253 249  64   0   0   0   0   0   0   0\n",
      "   0   0   0   0   0   0   0   0   0   0   0   0   0   0  46 130 183 253\n",
      " 253 207   2   0   0   0   0   0   0   0   0   0   0   0   0   0   0   0\n",
      "   0   0   0   0  39 148 229 253 253 253 250 182   0   0   0   0   0   0\n",
      "   0   0   0   0   0   0   0   0   0   0   0   0  24 114 221 253 253 253\n",
      " 253 201  78   0   0   0   0   0   0   0   0   0   0   0   0   0   0   0\n",
      "   0   0  23  66 213 253 253 253 253 198  81   2   0   0   0   0   0   0\n",
      "   0   0   0   0   0   0   0   0   0   0  18 171 219 253 253 253 253 195\n",
      "  80   9   0   0   0   0   0   0   0   0   0   0   0   0   0   0   0   0\n",
      "  55 172 226 253 253 253 253 244 133  11   0   0   0   0   0   0   0   0\n",
      "   0   0   0   0   0   0   0   0   0   0 136 253 253 253 212 135 132  16\n",
      "   0   0   0   0   0   0   0   0   0   0   0   0   0   0   0   0   0   0\n",
      "   0   0   0   0   0   0   0   0   0   0   0   0   0   0   0   0   0   0\n",
      "   0   0   0   0   0   0   0   0   0   0   0   0   0   0   0   0   0   0\n",
      "   0   0   0   0   0   0   0   0   0   0   0   0   0   0   0   0   0   0\n",
      "   0   0   0   0   0   0   0   0   0   0   0   0   0   0   0   0   0   0\n",
      "   0   0   0   0   0   0   0   0   0   0]\n",
      "The label is: 5\n"
     ]
    }
   ],
   "source": [
    "print(dataRTraining[0])\n",
    "print('The label is:', labelRTraining[0])"
   ]
  },
  {
   "cell_type": "markdown",
   "metadata": {},
   "source": [
    "We can visualize it using another python function as follows. Note that the python the libraries pyplot and numpy are used for plotting and computing numerical operations."
   ]
  },
  {
   "cell_type": "code",
   "execution_count": 4,
   "metadata": {},
   "outputs": [
    {
     "data": {
      "image/png": "[encoded data removed]",
      "text/plain": [
       "<Figure size 432x288 with 1 Axes>"
      ]
     },
     "metadata": {
      "needs_background": "light"
     },
     "output_type": "display_data"
    },
    {
     "data": {
      "image/png": "[encoded data removed]",
      "text/plain": [
       "<Figure size 432x288 with 1 Axes>"
      ]
     },
     "metadata": {
      "needs_background": "light"
     },
     "output_type": "display_data"
    }
   ],
   "source": [
    "# %matplotlib inline\n",
    "from matplotlib.pyplot import imshow\n",
    "import matplotlib.pyplot as plt\n",
    "imshow(dataRTraining[0].reshape(28,28), cmap='binary')\n",
    "plt.show()\n",
    "imshow(dataRTraining[2018].reshape(28,28), cmap='binary')\n",
    "plt.show()"
   ]
  },
  {
   "cell_type": "markdown",
   "metadata": {},
   "source": [
    "## Loading MNIST using Tensorflow\n",
    "\n",
    "Now we use the tensorflow package, provided by Google, for loading the MNIST dataset. When using tensorflow there is a built-in solution for importing the MNIST dataset within the tensorflow library. This spares us the work of loading and formating the data contained in the aforementioned CSV files. Instead, we may import a data structure from the tensorflow library as:"
   ]
  },
  {
   "cell_type": "code",
   "execution_count": 5,
   "metadata": {
    "scrolled": true
   },
   "outputs": [],
   "source": [
    "import tensorflow as tf\n",
    "from tensorflow.keras.datasets import mnist\n",
    "(X_train, Y_train), (X_test, Y_test) = mnist.load_data()"
   ]
  },
  {
   "cell_type": "markdown",
   "metadata": {},
   "source": [
    "When loading the data, the labels are not encoded using the one_hot option.\n",
    "*One-hot* refers to the formatting style of the label vector(s) provided.\n",
    "For this dataset, there are 10 possible labels corresponding to\n",
    "handwritten digits between 0 and 9. Then, for labeling an image, it is\n",
    "sufficient to assign an integer number between 0 and 9 corresponding to its\n",
    "label. When using the aforementioned one-hot representation of the labels, every\n",
    "image is labeled using a 10-dimensional vector with the value 1 in the\n",
    "entry corresponding to its assigned label (i.e., the \"hot\" entry) and zero elsewhere. Later in this course we will \n",
    "discuss the role of the one-hot format in context of supervised learning. \n",
    "\n",
    "We can convert the current labels to one hot using the following package. However, note that we are doing something artificial here just to demonstrate the concept."
   ]
  },
  {
   "cell_type": "code",
   "execution_count": 6,
   "metadata": {},
   "outputs": [],
   "source": [
    "from sklearn.preprocessing import OneHotEncoder\n",
    "one_hot_encoder = OneHotEncoder(sparse=False)"
   ]
  },
  {
   "cell_type": "code",
   "execution_count": 7,
   "metadata": {},
   "outputs": [],
   "source": [
    "class DataHolder:\n",
    "    def __init__(self):\n",
    "        self.images = None\n",
    "        self.labels = None\n",
    "        \n",
    "class DatasetCustom:\n",
    "    def __init__(self):\n",
    "        self.train = DataHolder()\n",
    "        self.test = DataHolder()\n",
    "        \n",
    "data = DatasetCustom() \n",
    "data.train.images = X_train\n",
    "data.test.images = X_test\n",
    "data.train.labels = one_hot_encoder.fit_transform(Y_train[:,np.newaxis])\n",
    "data.test.labels = one_hot_encoder.fit_transform(Y_test[:,np.newaxis])"
   ]
  },
  {
   "cell_type": "markdown",
   "metadata": {},
   "source": [
    "\n",
    "Up to this point, we have extracted the **MNIST** datset, which is composed of  \n",
    "* 70.000 images and associated labels.\n",
    "\n",
    "When loading this dataset from the examples provided by the tensorflow library, these 70.000 images and lables are already partioned into two datasets: "
   ]
  },
  {
   "cell_type": "code",
   "execution_count": 8,
   "metadata": {},
   "outputs": [
    {
     "name": "stdout",
     "output_type": "stream",
     "text": [
      "Size of:\n",
      "- Training-set:\t\t60000\n",
      "- Test-set:\t\t10000\n"
     ]
    }
   ],
   "source": [
    "print(\"Size of:\")\n",
    "print(\"- Training-set:\\t\\t{}\".format(len(data.train.labels)))\n",
    "print(\"- Test-set:\\t\\t{}\".format(len(data.test.labels)))\n"
   ]
  },
  {
   "cell_type": "markdown",
   "metadata": {},
   "source": [
    "Each element of the dataset is an image of dimension $784=28\\times 28$. "
   ]
  },
  {
   "cell_type": "code",
   "execution_count": 9,
   "metadata": {},
   "outputs": [
    {
     "name": "stdout",
     "output_type": "stream",
     "text": [
      "shape of first entry: (28, 28)\n",
      "shape of second entry: (28, 28)\n",
      "shape of third  entry: (28, 28)\n"
     ]
    }
   ],
   "source": [
    "print(\"shape of first entry:\",data.train.images[0,:].shape)\n",
    "print(\"shape of second entry:\",data.train.images[1,:].shape)\n",
    "print(\"shape of third  entry:\",data.train.images[2,:].shape)"
   ]
  },
  {
   "cell_type": "markdown",
   "metadata": {},
   "source": [
    "As discussed, the label vectors inside \"data.train.labels\" are in a one-hot format. We can extract the label number (between 0 and 9) by seaching for the entry with maximum value within the one-hot vector:"
   ]
  },
  {
   "cell_type": "code",
   "execution_count": 10,
   "metadata": {},
   "outputs": [
    {
     "name": "stdout",
     "output_type": "stream",
     "text": [
      "label of first entry: [0. 0. 0. 0. 0. 1. 0. 0. 0. 0.]\n",
      "label of first entry: 5\n",
      "label of second entry: [1. 0. 0. 0. 0. 0. 0. 0. 0. 0.]\n",
      "label of second entry: 0\n"
     ]
    }
   ],
   "source": [
    "print(\"label of first entry:\", data.train.labels[0,:])\n",
    "print(\"label of first entry:\", data.train.labels[0,:].argmax())\n",
    "print(\"label of second entry:\", data.train.labels[1,:])\n",
    "print(\"label of second entry:\", data.train.labels[1,:].argmax())"
   ]
  },
  {
   "cell_type": "markdown",
   "metadata": {},
   "source": [
    "We now show that this images correspond to the handritten digits as expected. "
   ]
  },
  {
   "cell_type": "code",
   "execution_count": 11,
   "metadata": {},
   "outputs": [
    {
     "data": {
      "image/png": "[encoded data removed]",
      "text/plain": [
       "<Figure size 432x288 with 1 Axes>"
      ]
     },
     "metadata": {
      "needs_background": "light"
     },
     "output_type": "display_data"
    },
    {
     "data": {
      "image/png": "[encoded data removed]",
      "text/plain": [
       "<Figure size 432x288 with 1 Axes>"
      ]
     },
     "metadata": {
      "needs_background": "light"
     },
     "output_type": "display_data"
    }
   ],
   "source": [
    "plt.imshow(data.train.images[0,:], cmap='binary')\n",
    "plt.show()\n",
    "plt.imshow(data.train.images[1,:], cmap='binary')\n",
    "plt.show()"
   ]
  },
  {
   "cell_type": "markdown",
   "metadata": {},
   "source": [
    "## MNIST dataset (PyTorch version)\n",
    "\n",
    "PyTorch is a python library developed by Facebook particularly for deep learning using GPU and CPU. In this tutorial, we load the MNIST dataset. We import two libraries torch and torchvision, the later for datasets. \n"
   ]
  },
  {
   "cell_type": "code",
   "execution_count": 12,
   "metadata": {},
   "outputs": [],
   "source": [
    "import torch\n",
    "from torchvision import datasets"
   ]
  },
  {
   "cell_type": "markdown",
   "metadata": {},
   "source": [
    "MNIST dataset is loaded using the following command. There is a download flag which is set to True if the dataset is to be downloaded from the internet. If MNIST dataset for PyTorch has been downloaded, two files training.pt and test.pt are found in the folder \"processed\". In this case, put the flag to False so that it is not downloaded again. The flag \"train\" determines if you intend to load training or test set."
   ]
  },
  {
   "cell_type": "code",
   "execution_count": 13,
   "metadata": {},
   "outputs": [],
   "source": [
    "DNLD=True\n",
    "trainingMNIST = datasets.MNIST('./MNIST', train=True, download=DNLD)\n",
    "testMNIST = datasets.MNIST('./MNIST', train=False, download=DNLD)"
   ]
  },
  {
   "cell_type": "markdown",
   "metadata": {},
   "source": [
    "The size of training and test set is the same as before. Note that the validation set should be manually constructed from the training set."
   ]
  },
  {
   "cell_type": "code",
   "execution_count": 14,
   "metadata": {},
   "outputs": [
    {
     "name": "stdout",
     "output_type": "stream",
     "text": [
      "Size of:\n",
      "- Training-set:\t\t60000\n",
      "- Test-set:\t\t10000\n"
     ]
    }
   ],
   "source": [
    "print(\"Size of:\")\n",
    "print(\"- Training-set:\\t\\t{}\".format(len(trainingMNIST)))\n",
    "print(\"- Test-set:\\t\\t{}\".format(len(testMNIST)))"
   ]
  },
  {
   "cell_type": "markdown",
   "metadata": {},
   "source": [
    "Each entry of the dataset consists of PIL image module and its label. In the following, we explore similarly the content of entries."
   ]
  },
  {
   "cell_type": "code",
   "execution_count": 15,
   "metadata": {},
   "outputs": [
    {
     "data": {
      "text/plain": [
       "(<PIL.Image.Image image mode=L size=28x28 at 0x7F66AB9DA710>, tensor(5))"
      ]
     },
     "execution_count": 15,
     "metadata": {},
     "output_type": "execute_result"
    }
   ],
   "source": [
    "trainingMNIST[0]"
   ]
  },
  {
   "cell_type": "code",
   "execution_count": 16,
   "metadata": {},
   "outputs": [
    {
     "name": "stdout",
     "output_type": "stream",
     "text": [
      "shape of first entry: (28, 28)\n",
      "shape of second entry: (28, 28)\n",
      "shape of third entry: (28, 28)\n"
     ]
    }
   ],
   "source": [
    "print(\"shape of first entry:\", trainingMNIST[0][0].size)\n",
    "print(\"shape of second entry:\", trainingMNIST[1][0].size)\n",
    "print(\"shape of third entry:\", trainingMNIST[2][0].size)"
   ]
  },
  {
   "cell_type": "code",
   "execution_count": 17,
   "metadata": {},
   "outputs": [
    {
     "name": "stdout",
     "output_type": "stream",
     "text": [
      "label of first entry: tensor(5)\n",
      "label of first entry: tensor(0)\n",
      "label of first entry: tensor(4)\n"
     ]
    }
   ],
   "source": [
    "print(\"label of first entry:\", trainingMNIST[0][1])\n",
    "print(\"label of first entry:\", trainingMNIST[1][1])\n",
    "print(\"label of first entry:\", trainingMNIST[2][1])"
   ]
  },
  {
   "cell_type": "code",
   "execution_count": 18,
   "metadata": {},
   "outputs": [
    {
     "data": {
      "image/png": "[encoded data removed]",
      "text/plain": [
       "<Figure size 432x288 with 1 Axes>"
      ]
     },
     "metadata": {
      "needs_background": "light"
     },
     "output_type": "display_data"
    },
    {
     "data": {
      "image/png": "[encoded data removed]",
      "text/plain": [
       "<Figure size 432x288 with 1 Axes>"
      ]
     },
     "metadata": {
      "needs_background": "light"
     },
     "output_type": "display_data"
    }
   ],
   "source": [
    "imshow(np.asarray(trainingMNIST[0][0]), cmap='binary')\n",
    "plt.show()\n",
    "imshow(np.asarray(trainingMNIST[1][0]), cmap='binary')\n",
    "plt.show()"
   ]
  }
 ],
 "metadata": {
  "kernelspec": {
   "display_name": "Python 3",
   "language": "python",
   "name": "python3"
  },
  "language_info": {
   "codemirror_mode": {
    "name": "ipython",
    "version": 3
   },
   "file_extension": ".py",
   "mimetype": "text/x-python",
   "name": "python",
   "nbconvert_exporter": "python",
   "pygments_lexer": "ipython3",
   "version": "3.7.9"
  }
 },
 "nbformat": 4,
 "nbformat_minor": 2
}
